{
  "nbformat": 4,
  "nbformat_minor": 0,
  "metadata": {
    "colab": {
      "provenance": [],
      "authorship_tag": "ABX9TyPrvtpKAqT8ZFiLD6zOYG1K",
      "include_colab_link": true
    },
    "kernelspec": {
      "name": "python3",
      "display_name": "Python 3"
    },
    "language_info": {
      "name": "python"
    }
  },
  "cells": [
    {
      "cell_type": "markdown",
      "metadata": {
        "id": "view-in-github",
        "colab_type": "text"
      },
      "source": [
        "<a href=\"https://colab.research.google.com/github/arm4nd1/armand/blob/main/Untitled0.ipynb\" target=\"_parent\"><img src=\"https://colab.research.google.com/assets/colab-badge.svg\" alt=\"Open In Colab\"/></a>"
      ]
    },
    {
      "cell_type": "code",
      "execution_count": null,
      "metadata": {
        "id": "nraUNVqtWLGk"
      },
      "outputs": [],
      "source": [
        "def bisection_method(f, a, b, tol, max_iter):\n",
        "    if f(a) * f(b) > 0:\n",
        "        print(\"The function has the same sign at both ends of the interval. Bisection method cannot be applied.\")\n",
        "        return None\n",
        "\n",
        "    iter_count = 0\n",
        "    while (b - a) / 2.0 > tol and iter_count < max_iter:\n",
        "        midpoint = (a + b) / 2.0\n",
        "        if f(midpoint) == 0:\n",
        "            return midpoint\n",
        "        elif f(a) * f(midpoint) < 0:\n",
        "            b = midpoint\n",
        "        else:\n",
        "            a = midpoint\n",
        "        iter_count += 1\n",
        "\n",
        "    return (a + b) / 2.0\n",
        "\n",
        "# Example\n",
        "def f(x):\n",
        "    return x**3  - 5\n",
        "\n",
        "root = bisection_method(f, 2, 3, 0.0001, 100)\n",
        "print(\"Approximate root:\", root)\n",
        "\n",
        "\n"
      ]
    }
  ]
}