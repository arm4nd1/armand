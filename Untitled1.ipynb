{
  "nbformat": 4,
  "nbformat_minor": 0,
  "metadata": {
    "colab": {
      "provenance": [],
      "authorship_tag": "ABX9TyM+Peg3xVJaYcGXSaUfOAkB",
      "include_colab_link": true
    },
    "kernelspec": {
      "name": "python3",
      "display_name": "Python 3"
    },
    "language_info": {
      "name": "python"
    }
  },
  "cells": [
    {
      "cell_type": "markdown",
      "metadata": {
        "id": "view-in-github",
        "colab_type": "text"
      },
      "source": [
        "<a href=\"https://colab.research.google.com/github/arm4nd1/armand/blob/main/Untitled1.ipynb\" target=\"_parent\"><img src=\"https://colab.research.google.com/assets/colab-badge.svg\" alt=\"Open In Colab\"/></a>"
      ]
    },
    {
      "cell_type": "code",
      "execution_count": 1,
      "metadata": {
        "colab": {
          "base_uri": "https://localhost:8080/"
        },
        "id": "-x9uEMJSRjal",
        "outputId": "4259162b-9ad1-44d2-f1ff-969af7550246"
      },
      "outputs": [
        {
          "output_type": "stream",
          "name": "stdout",
          "text": [
            "Approximate root: 2.0\n"
          ]
        }
      ],
      "source": [
        "def bisection_method(func, a, b, tol, max_iter):\n",
        "    if func(a) * func(b) >= 0:\n",
        "        print(\"Bisection method fails.\")\n",
        "        return None\n",
        "    else:\n",
        "        iter_count = 0\n",
        "        while (b - a) / 2.0 > tol and iter_count < max_iter:\n",
        "            midpoint = (a + b) / 2.0\n",
        "            if func(midpoint) == 0:\n",
        "                return midpoint\n",
        "            elif func(a) * func(midpoint) < 0:\n",
        "                b = midpoint\n",
        "            else:\n",
        "                a = midpoint\n",
        "            iter_count += 1\n",
        "        return (a + b) / 2.0\n",
        "\n",
        "# Example\n",
        "def g(x):\n",
        "    return x**2 - 4\n",
        "\n",
        "root = bisection_method(g, 1, 3, 0.0001, 100)\n",
        "print(\"Approximate root:\", root)"
      ]
    }
  ]
}