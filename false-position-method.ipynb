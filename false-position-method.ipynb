{
  "nbformat": 4,
  "nbformat_minor": 0,
  "metadata": {
    "colab": {
      "provenance": [],
      "authorship_tag": "ABX9TyMQyQWab+J5V4SUykRc9Ygv",
      "include_colab_link": true
    },
    "kernelspec": {
      "name": "python3",
      "display_name": "Python 3"
    },
    "language_info": {
      "name": "python"
    }
  },
  "cells": [
    {
      "cell_type": "markdown",
      "metadata": {
        "id": "view-in-github",
        "colab_type": "text"
      },
      "source": [
        "<a href=\"https://colab.research.google.com/github/arm4nd1/armand/blob/main/false-position-method.ipynb\" target=\"_parent\"><img src=\"https://colab.research.google.com/assets/colab-badge.svg\" alt=\"Open In Colab\"/></a>"
      ]
    },
    {
      "cell_type": "code",
      "execution_count": null,
      "metadata": {
        "id": "7D-i-Kjwf7vf"
      },
      "outputs": [],
      "source": [
        "def false_position_method(f, a, b, tol, max_iter):\n",
        "    if f(a) * f(b) >= 0:\n",
        "        print(\"False position method fails.\")\n",
        "        return None\n",
        "\n",
        "    iter = 0\n",
        "    while iter < max_iter:\n",
        "        c = (a * f(b) - b * f(a)) / (f(b) - f(a))\n",
        "        if abs(f(c)) < tol:\n",
        "            return c\n",
        "        if f(c) * f(a) < 0:\n",
        "            b = c\n",
        "        else:\n",
        "            a = c\n",
        "        iter += 1\n",
        "\n",
        "    print(\"False position method reached maximum iterations.\")\n",
        "    return None\n",
        "\n",
        "# Example usage\n",
        "def f(x):\n",
        "    return x**3 - 2*x - 5\n",
        "\n",
        "root = false_position_method(f, 2, 3, 1e-6, 100)\n",
        "if root is not None:\n",
        "    print(\"Approximate root:\", root)"
      ]
    }
  ]
}